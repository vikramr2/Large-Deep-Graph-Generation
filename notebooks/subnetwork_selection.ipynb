{
 "cells": [
  {
   "cell_type": "code",
   "execution_count": 1,
   "metadata": {},
   "outputs": [],
   "source": [
    "import os\n",
    "from pathlib import Path\n",
    "import networkx as nx\n",
    "import numpy as np\n",
    "from scipy.stats import wasserstein_distance"
   ]
  },
  {
   "cell_type": "code",
   "execution_count": 2,
   "metadata": {},
   "outputs": [],
   "source": [
    "network_id = 'cit-HepPh'\n",
    "\n",
    "orig_subnetworks_dir = Path(f'test_data/networks/syn/{network_id}/orig_subnetworks')\n",
    "syn_subnetworks_dir = Path(f'test_data/networks/syn/{network_id}/syn_subnetworks_raw')\n",
    "\n",
    "out_dir = Path(f'test_data/networks/syn/{network_id}/syn_subnetworks')"
   ]
  },
  {
   "cell_type": "code",
   "execution_count": 3,
   "metadata": {},
   "outputs": [],
   "source": [
    "syn_subnetworks = []\n",
    "syn_cluster_id2iid = dict()\n",
    "syn_cluster_iid2id = dict()\n",
    "\n",
    "for subnetwork_fp in syn_subnetworks_dir.iterdir():\n",
    "    if subnetwork_fp.suffix != '.tsv':\n",
    "        continue\n",
    "    \n",
    "    subnetwork_id = subnetwork_fp.stem\n",
    "    subnetwork_iid = len(syn_subnetworks)\n",
    "    syn_cluster_id2iid[subnetwork_id] = subnetwork_iid\n",
    "    syn_cluster_iid2id[subnetwork_iid] = subnetwork_id\n",
    "\n",
    "    with open(subnetwork_fp, 'r') as f:\n",
    "        edges = [tuple(line.strip().split('\\t')) for line in f]\n",
    "    syn_subnetworks.append(edges)"
   ]
  },
  {
   "cell_type": "code",
   "execution_count": 4,
   "metadata": {},
   "outputs": [],
   "source": [
    "orig_subnetworks = []\n",
    "orig_cluster_id2iid = dict()\n",
    "orig_cluster_iid2id = dict()\n",
    "\n",
    "for subnetwork_fp in orig_subnetworks_dir.iterdir():\n",
    "    if subnetwork_fp.suffix != '.tsv':\n",
    "        continue\n",
    "    \n",
    "    subnetwork_id = subnetwork_fp.stem\n",
    "    subnetwork_iid = len(orig_subnetworks)\n",
    "    orig_cluster_id2iid[subnetwork_id] = subnetwork_iid\n",
    "    orig_cluster_iid2id[subnetwork_iid] = subnetwork_id\n",
    "\n",
    "    with open(subnetwork_fp, 'r') as f:\n",
    "        edges = [tuple(line.strip().split('\\t')) for line in f]\n",
    "    orig_subnetworks.append(edges)"
   ]
  },
  {
   "cell_type": "code",
   "execution_count": null,
   "metadata": {},
   "outputs": [],
   "source": [
    "def distance(G1, G2):\n",
    "    deg1 = np.array([d for _, d in G1.degree()])\n",
    "    deg2 = np.array([d for _, d in G2.degree()])\n",
    "    return wasserstein_distance(deg1, deg2)\n",
    "\n",
    "chosen_subnetworks = dict()\n",
    "for i, orig_subnetwork in enumerate(orig_subnetworks):\n",
    "    d = np.zeros(len(syn_subnetworks))\n",
    "    for j, syn_subnetwork in enumerate(syn_subnetworks):\n",
    "        orig_G = nx.Graph(orig_subnetwork)\n",
    "        syn_G = nx.Graph(syn_subnetwork)\n",
    "        d[j] = distance(orig_G, syn_G)\n",
    "    # Select randomly based on the distance (the smaller the better)\n",
    "    p = np.exp(-d)\n",
    "    p /= p.sum()\n",
    "    selected_iid = np.random.choice(len(syn_subnetworks), p=p)\n",
    "    selected_id = syn_cluster_iid2id[selected_iid]\n",
    "    chosen_subnetworks[orig_cluster_iid2id[i]] = selected_id"
   ]
  },
  {
   "cell_type": "code",
   "execution_count": 6,
   "metadata": {},
   "outputs": [],
   "source": [
    "out_dir.mkdir(parents=True, exist_ok=True)\n",
    "\n",
    "for orig_id, syn_id in chosen_subnetworks.items():\n",
    "    syn_fp = syn_subnetworks_dir / f'{syn_id}.tsv'\n",
    "    out_fp = out_dir / f'{orig_id}_{syn_id}.tsv'\n",
    "    os.system(f'cp {syn_fp} {out_fp}')"
   ]
  }
 ],
 "metadata": {
  "kernelspec": {
   "display_name": "cs598you_project",
   "language": "python",
   "name": "python3"
  },
  "language_info": {
   "codemirror_mode": {
    "name": "ipython",
    "version": 3
   },
   "file_extension": ".py",
   "mimetype": "text/x-python",
   "name": "python",
   "nbconvert_exporter": "python",
   "pygments_lexer": "ipython3",
   "version": "3.10.15"
  }
 },
 "nbformat": 4,
 "nbformat_minor": 2
}
